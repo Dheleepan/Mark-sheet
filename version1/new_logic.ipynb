{
 "cells": [
  {
   "cell_type": "code",
   "execution_count": 1,
   "metadata": {},
   "outputs": [],
   "source": [
    "import os, io\n",
    "from google.cloud import vision_v1\n",
    "import pandas as pd\n",
    "import nltk\n",
    "import re"
   ]
  },
  {
   "cell_type": "code",
   "execution_count": 2,
   "metadata": {},
   "outputs": [],
   "source": [
    "os.environ['GOOGLE_APPLICATION_CREDENTIALS'] = r\"google_j.json\"\n"
   ]
  },
  {
   "cell_type": "code",
   "execution_count": 3,
   "metadata": {},
   "outputs": [],
   "source": [
    "client = vision_v1.ImageAnnotatorClient()"
   ]
  },
  {
   "cell_type": "code",
   "execution_count": 4,
   "metadata": {},
   "outputs": [
    {
     "data": {
      "text/plain": [
       "<google.cloud.vision_v1.ImageAnnotatorClient at 0x20a640a1808>"
      ]
     },
     "execution_count": 4,
     "metadata": {},
     "output_type": "execute_result"
    }
   ],
   "source": [
    "client"
   ]
  },
  {
   "cell_type": "code",
   "execution_count": 5,
   "metadata": {},
   "outputs": [],
   "source": [
    "file_name = r'sample1.jpg'"
   ]
  },
  {
   "cell_type": "code",
   "execution_count": 6,
   "metadata": {},
   "outputs": [],
   "source": [
    "with io.open(file_name, 'rb') as image_file:\n",
    "    content = image_file.read()"
   ]
  },
  {
   "cell_type": "code",
   "execution_count": 7,
   "metadata": {},
   "outputs": [],
   "source": [
    "image = vision_v1.types.Image(content=content)\n"
   ]
  },
  {
   "cell_type": "code",
   "execution_count": 8,
   "metadata": {},
   "outputs": [],
   "source": [
    "response = client.text_detection(image=image) "
   ]
  },
  {
   "cell_type": "code",
   "execution_count": 9,
   "metadata": {},
   "outputs": [],
   "source": [
    "\n",
    "df = pd.DataFrame(columns=['locale', 'description'])"
   ]
  },
  {
   "cell_type": "code",
   "execution_count": 10,
   "metadata": {},
   "outputs": [],
   "source": [
    "texts = response.text_annotations"
   ]
  },
  {
   "cell_type": "code",
   "execution_count": 11,
   "metadata": {},
   "outputs": [],
   "source": [
    "for text in texts:\n",
    "    df = df.append(\n",
    "        dict(\n",
    "            locale=text.locale,\n",
    "            description=text.description\n",
    "        ),\n",
    "        ignore_index=True\n",
    "    )\n"
   ]
  },
  {
   "cell_type": "code",
   "execution_count": 54,
   "metadata": {},
   "outputs": [
    {
     "name": "stdout",
     "output_type": "stream",
     "text": [
      "2282557\n",
      "சான்றிதழ் வ.எண்/ certificate s. no, sec\n",
      "அரசுத் தேர்வுகள் துறை, சென்னை\n",
      "department of government examinations, chennai - 600 006.\n",
      "600 006.\n",
      "இடைநிலைக் கல்வி பள்ளி இறுதி வகுப்புச் சான்றிதழ்\n",
      "secondary school leaving certificate\n",
      "பத்தாம் வகுப்பு\n",
      "x standard\n",
      "தமிழ்நாடு அரசின் அதிகாரத்திற்கு உட்பட்டு வழங்கப்படுகிறது\n",
      "issued under the authority of the government of tamilnadu\n",
      "தேர்வர் j a ms e eth 8a sha\n",
      "mar.2005 i\n",
      "பத்தாம் வகுப்புப் பொதுத் தேர்வெழுதிக் கீழ்க்காணும் விழுக்காட்டு மதிப்பெண்களைப்\n",
      "பெற்றுள்ளார் என்று சான்றளிக்கப்படுகிறது\n",
      "certified that the above mentioned candidate appeared for the sslc public examination\n",
      "and obtained the following percentage of marks :\n",
      "பாடம்\n",
      "subject\n",
      "மதிப்பெண்\n",
      "marks\n",
      "மொழி\n",
      "lanğuage\n",
      "tamil\n",
      "72\n",
      "seven two\n",
      "ஆங்கிலம்\n",
      "english\n",
      "62\n",
      "six.\n",
      "two\n",
      "கணிதம்\n",
      "mathematics\n",
      "seven thre e\n",
      "73\n",
      "அறிவியல்\n",
      "science\n",
      "52\n",
      "five\n",
      "two\n",
      "சமூக அறிவியல்\n",
      "social science\n",
      "51\n",
      "five\n",
      "one\n",
      "மொத்தம்\n",
      "тоtal\n",
      "310\n",
      "three one\n",
      "zero\n",
      "பிறந்த நாள் / date of birth\n",
      "15.08.1989\n",
      "பதிவெண் / register no, ம.அ.ப.குறியீட்டெண்நோன் tmr cooe no, & date\n",
      "a 27 5294 04.06.2005\n",
      "295820\n",
      "lisirefluslar quut / school\n",
      "tagore hss deviyakurichi\n",
      "பத்தாம் வகுப்புத் தேர்வில் தேர்ச்சி பெற ஒவ்வொரு பாடத்திலும், 100க்குக் குறும அளவு முப்பத்தைந்து விழுக்காடு\n",
      "மதிப்பெண் பெறுதல் வேண்டும். இது பகுதி முறையில் தேர்வு எழுதித் தேர்ச்சி பெறுவதற்கும் பொரகுந்தும்\n",
      "a pass in the sslc (x std.) examination requires a minimum of thirty five percent of marks in\n",
      "each one of the five subject. this includes passing under the compartmental system also.\n",
      "adimgseth basha\n",
      "\"தேர்வரின் ஒப்பம்\n",
      "candidate's signature\n",
      "sslc\n",
      "மாநிலப் பள்ளித்தேர்வுகள் குழுமம், தமிழ்நாடு\n",
      "secretary\n",
      "state board of school examinations, tamilnadu\n",
      "\n"
     ]
    }
   ],
   "source": [
    "r = df['description'][0].lower()\n",
    "print(r)"
   ]
  },
  {
   "cell_type": "code",
   "execution_count": 13,
   "metadata": {},
   "outputs": [
    {
     "data": {
      "text/plain": [
       "'2282557                  certificate s  no  sec                               department of government examinations  chennai   600 006  600 006                                                  secondary school leaving certificate                 x standard                                                          issued under the authority of the government of tamilnadu         j a ms e eth 8a sha mar 2005 i                                                                                                                        certified that the above mentioned candidate appeared for the sslc public examination and obtained the following percentage of marks         subject           marks      lan uage tamil 72 seven two          english 62 six  two        mathematics seven thre e 73          science 52 five two               social science 51 five one           tal 310 three one zero               date of birth 15 08 1989           register no                         tmr cooe no    date a 27 5294 04 06 2005 295820 lisirefluslar quut   school tagore hss deviyakurichi                                                              100                                                                                                                                           a pass in the sslc  x std   examination requires a minimum of thirty five percent of marks in each one of the five subject  this includes passing under the compartmental system also  adimgseth basha                   candidate s signature sslc                                             secretary state board of school examinations  tamilnadu '"
      ]
     },
     "execution_count": 13,
     "metadata": {},
     "output_type": "execute_result"
    }
   ],
   "source": [
    "new_string=re.sub('[^a-zA-Z0-9]',' ',r)\n",
    "\n",
    "cleaned_string=re.sub('\\n','',new_string)\n",
    "\n",
    "cleaned_string"
   ]
  },
  {
   "cell_type": "code",
   "execution_count": 14,
   "metadata": {},
   "outputs": [],
   "source": [
    "cleaned_string = re.sub(' +', ' ',cleaned_string)"
   ]
  },
  {
   "cell_type": "code",
   "execution_count": 15,
   "metadata": {},
   "outputs": [
    {
     "data": {
      "text/plain": [
       "'2282557 certificate s no sec department of government examinations chennai 600 006 600 006 secondary school leaving certificate x standard issued under the authority of the government of tamilnadu j a ms e eth 8a sha mar 2005 i certified that the above mentioned candidate appeared for the sslc public examination and obtained the following percentage of marks subject marks lan uage tamil 72 seven two english 62 six two mathematics seven thre e 73 science 52 five two social science 51 five one tal 310 three one zero date of birth 15 08 1989 register no tmr cooe no date a 27 5294 04 06 2005 295820 lisirefluslar quut school tagore hss deviyakurichi 100 a pass in the sslc x std examination requires a minimum of thirty five percent of marks in each one of the five subject this includes passing under the compartmental system also adimgseth basha candidate s signature sslc secretary state board of school examinations tamilnadu '"
      ]
     },
     "execution_count": 15,
     "metadata": {},
     "output_type": "execute_result"
    }
   ],
   "source": [
    "cleaned_string"
   ]
  },
  {
   "cell_type": "code",
   "execution_count": 16,
   "metadata": {},
   "outputs": [],
   "source": [
    "splited_word = cleaned_string.split()"
   ]
  },
  {
   "cell_type": "code",
   "execution_count": 17,
   "metadata": {},
   "outputs": [],
   "source": [
    "remove = ['one','three','two','four','five','six','seven','eight','nine','zero','thre','a','b','c','d','e','f','g','h','i','j','k','l','m','n','o','p','q','r','s','t','u','v','w','y','z']"
   ]
  },
  {
   "cell_type": "code",
   "execution_count": 18,
   "metadata": {},
   "outputs": [],
   "source": [
    "for _ in range(3):\n",
    "    for i in splited_word:\n",
    "        if i in remove:\n",
    "            splited_word.remove(i)\n",
    "    "
   ]
  },
  {
   "cell_type": "code",
   "execution_count": 19,
   "metadata": {},
   "outputs": [],
   "source": [
    "for i in splited_word:\n",
    "    if i == 'computer':\n",
    "        r = re.search(\"computer (\\w+)\",cleaned_string)\n",
    "        f =r[1]\n",
    "        if f == 'science':\n",
    "            splited_word.remove(f)"
   ]
  },
  {
   "cell_type": "code",
   "execution_count": 20,
   "metadata": {},
   "outputs": [],
   "source": [
    "for i in splited_word:\n",
    "    if i == 'history':\n",
    "        r = re.search(\"history (\\w+)\",cleaned_string)\n",
    "        f =r[1]\n",
    "        if f == 'geography':\n",
    "            splited_word.remove(f)"
   ]
  },
  {
   "cell_type": "code",
   "execution_count": 21,
   "metadata": {},
   "outputs": [],
   "source": [
    "for i in splited_word:\n",
    "    if i == 'practical':\n",
    "        r = re.search(\"practical (\\w+)\", cleaned_string)\n",
    "        f =r[1]\n",
    "        m = f.isdigit()\n",
    "        if  m is True:\n",
    "            splited_word.remove(f)\n",
    "        splited_word.remove(i)\n",
    "        pass"
   ]
  },
  {
   "cell_type": "code",
   "execution_count": 22,
   "metadata": {},
   "outputs": [],
   "source": [
    "for i in splited_word:\n",
    "    if i == 'theory':\n",
    "        r = re.search(\"theory (\\w+)\", cleaned_string)\n",
    "        f =r[1]\n",
    "        m = f.isdigit()\n",
    "        if  m is True:\n",
    "            splited_word.remove(f)\n",
    "        splited_word.remove(i)"
   ]
  },
  {
   "cell_type": "code",
   "execution_count": null,
   "metadata": {},
   "outputs": [],
   "source": []
  },
  {
   "cell_type": "code",
   "execution_count": 23,
   "metadata": {},
   "outputs": [
    {
     "data": {
      "text/plain": [
       "['2282557',\n",
       " 'certificate',\n",
       " 'no',\n",
       " 'sec',\n",
       " 'department',\n",
       " 'of',\n",
       " 'government',\n",
       " 'examinations',\n",
       " 'chennai',\n",
       " '600',\n",
       " '006',\n",
       " '600',\n",
       " '006',\n",
       " 'secondary',\n",
       " 'school',\n",
       " 'leaving',\n",
       " 'certificate',\n",
       " 'x',\n",
       " 'standard',\n",
       " 'issued',\n",
       " 'under',\n",
       " 'the',\n",
       " 'authority',\n",
       " 'of',\n",
       " 'the',\n",
       " 'government',\n",
       " 'of',\n",
       " 'tamilnadu',\n",
       " 'ms',\n",
       " 'eth',\n",
       " '8a',\n",
       " 'sha',\n",
       " 'mar',\n",
       " '2005',\n",
       " 'certified',\n",
       " 'that',\n",
       " 'the',\n",
       " 'above',\n",
       " 'mentioned',\n",
       " 'candidate',\n",
       " 'appeared',\n",
       " 'for',\n",
       " 'the',\n",
       " 'sslc',\n",
       " 'public',\n",
       " 'examination',\n",
       " 'and',\n",
       " 'obtained',\n",
       " 'the',\n",
       " 'following',\n",
       " 'percentage',\n",
       " 'of',\n",
       " 'marks',\n",
       " 'subject',\n",
       " 'marks',\n",
       " 'lan',\n",
       " 'uage',\n",
       " 'tamil',\n",
       " '72',\n",
       " 'english',\n",
       " '62',\n",
       " 'mathematics',\n",
       " '73',\n",
       " 'science',\n",
       " '52',\n",
       " 'social',\n",
       " '51',\n",
       " 'tal',\n",
       " '310',\n",
       " 'date',\n",
       " 'of',\n",
       " 'birth',\n",
       " '15',\n",
       " '08',\n",
       " '1989',\n",
       " 'register',\n",
       " 'no',\n",
       " 'tmr',\n",
       " 'cooe',\n",
       " 'no',\n",
       " 'date',\n",
       " '27',\n",
       " '5294',\n",
       " '04',\n",
       " '06',\n",
       " '2005',\n",
       " '295820',\n",
       " 'lisirefluslar',\n",
       " 'quut',\n",
       " 'school',\n",
       " 'tagore',\n",
       " 'hss',\n",
       " 'deviyakurichi',\n",
       " '100',\n",
       " 'pass',\n",
       " 'in',\n",
       " 'the',\n",
       " 'sslc',\n",
       " 'x',\n",
       " 'std',\n",
       " 'examination',\n",
       " 'requires',\n",
       " 'minimum',\n",
       " 'of',\n",
       " 'thirty',\n",
       " 'percent',\n",
       " 'of',\n",
       " 'marks',\n",
       " 'in',\n",
       " 'each',\n",
       " 'of',\n",
       " 'the',\n",
       " 'subject',\n",
       " 'this',\n",
       " 'includes',\n",
       " 'passing',\n",
       " 'under',\n",
       " 'the',\n",
       " 'compartmental',\n",
       " 'system',\n",
       " 'also',\n",
       " 'adimgseth',\n",
       " 'basha',\n",
       " 'candidate',\n",
       " 'signature',\n",
       " 'sslc',\n",
       " 'secretary',\n",
       " 'state',\n",
       " 'board',\n",
       " 'of',\n",
       " 'school',\n",
       " 'examinations',\n",
       " 'tamilnadu']"
      ]
     },
     "execution_count": 23,
     "metadata": {},
     "output_type": "execute_result"
    }
   ],
   "source": [
    "index_point = []\n",
    "for i in range(len(splited_word)):\n",
    "    if splited_word[i] == 'science':\n",
    "        index_point.append(i)\n",
    "        \n",
    "splited_word1 = []\n",
    "for i in range(len(splited_word)):\n",
    "    if i not in index_point[1:]:\n",
    "        splited_word1.append(splited_word[i])\n",
    "        \n",
    "splited_word1"
   ]
  },
  {
   "cell_type": "code",
   "execution_count": 24,
   "metadata": {},
   "outputs": [],
   "source": [
    "cleaned_string = ' '.join([str(i) for i in splited_word1])\n"
   ]
  },
  {
   "cell_type": "code",
   "execution_count": 25,
   "metadata": {},
   "outputs": [
    {
     "data": {
      "text/plain": [
       "'2282557 certificate no sec department of government examinations chennai 600 006 600 006 secondary school leaving certificate x standard issued under the authority of the government of tamilnadu ms eth 8a sha mar 2005 certified that the above mentioned candidate appeared for the sslc public examination and obtained the following percentage of marks subject marks lan uage tamil 72 english 62 mathematics 73 science 52 social 51 tal 310 date of birth 15 08 1989 register no tmr cooe no date 27 5294 04 06 2005 295820 lisirefluslar quut school tagore hss deviyakurichi 100 pass in the sslc x std examination requires minimum of thirty percent of marks in each of the subject this includes passing under the compartmental system also adimgseth basha candidate signature sslc secretary state board of school examinations tamilnadu'"
      ]
     },
     "execution_count": 25,
     "metadata": {},
     "output_type": "execute_result"
    }
   ],
   "source": [
    "cleaned_string"
   ]
  },
  {
   "cell_type": "code",
   "execution_count": 26,
   "metadata": {},
   "outputs": [],
   "source": [
    "web_response = client.web_detection(image=image)\n"
   ]
  },
  {
   "cell_type": "code",
   "execution_count": 27,
   "metadata": {},
   "outputs": [],
   "source": [
    "web_content = web_response.web_detection\n",
    "prove= web_content.best_guess_labels\n"
   ]
  },
  {
   "cell_type": "code",
   "execution_count": 28,
   "metadata": {},
   "outputs": [],
   "source": [
    "mark_sheet = 0\n",
    "if 'higher' in splited_word:\n",
    "    mark_sheet = 12\n",
    "elif 'x' in splited_word:\n",
    "    mark_sheet = 10\n"
   ]
  },
  {
   "cell_type": "code",
   "execution_count": 29,
   "metadata": {},
   "outputs": [],
   "source": [
    "subjects_list = ['maths','tamil','english','computer science','computer','science','social','physics','mathematics','chemistry','biology','hindi','history','biology','zology','drawing','french','sanskrit','political','economics','sociology','accountancy','statistics']"
   ]
  },
  {
   "cell_type": "code",
   "execution_count": 30,
   "metadata": {},
   "outputs": [],
   "source": [
    "f=open('subjects_list.csv','w')\n",
    "for i in subjects_list:\n",
    "    f.write(str(i))\n",
    "    f.write('\\n')\n",
    "f.close()"
   ]
  },
  {
   "cell_type": "code",
   "execution_count": 31,
   "metadata": {},
   "outputs": [],
   "source": [
    "import csv\n",
    "sub = []\n",
    "with open('subjects_list.csv', 'r') as file:\n",
    "    reader = file.readlines()\n",
    "    for row in reader:\n",
    "        sub.append(row)\n",
    "subjects = []\n",
    "for i in sub:\n",
    "    subjects.append(i.replace('\\n',''))        "
   ]
  },
  {
   "cell_type": "code",
   "execution_count": 32,
   "metadata": {},
   "outputs": [
    {
     "data": {
      "text/plain": [
       "['maths',\n",
       " 'tamil',\n",
       " 'english',\n",
       " 'computer science',\n",
       " 'computer',\n",
       " 'science',\n",
       " 'social',\n",
       " 'physics',\n",
       " 'mathematics',\n",
       " 'chemistry',\n",
       " 'biology',\n",
       " 'hindi',\n",
       " 'history',\n",
       " 'biology',\n",
       " 'zology',\n",
       " 'drawing',\n",
       " 'french',\n",
       " 'sanskrit',\n",
       " 'political',\n",
       " 'economics',\n",
       " 'sociology',\n",
       " 'accountancy',\n",
       " 'statistics']"
      ]
     },
     "execution_count": 32,
     "metadata": {},
     "output_type": "execute_result"
    }
   ],
   "source": [
    "subjects"
   ]
  },
  {
   "cell_type": "code",
   "execution_count": 33,
   "metadata": {},
   "outputs": [
    {
     "data": {
      "text/plain": [
       "['tamil', 'english', 'mathematics', 'science', 'social', 'science']"
      ]
     },
     "execution_count": 33,
     "metadata": {},
     "output_type": "execute_result"
    }
   ],
   "source": [
    "sub_list=[]\n",
    "for i in splited_word:\n",
    "    if i in subjects:\n",
    "        sub_list.append(i)\n",
    "        \n",
    "sub_list"
   ]
  },
  {
   "cell_type": "code",
   "execution_count": 44,
   "metadata": {},
   "outputs": [],
   "source": [
    "final_sub = []\n",
    "for i in sub_list:\n",
    "    if i not in final_sub:\n",
    "        final_sub.append(i)\n"
   ]
  },
  {
   "cell_type": "code",
   "execution_count": 45,
   "metadata": {},
   "outputs": [],
   "source": [
    "cou = len(final_sub)"
   ]
  },
  {
   "cell_type": "code",
   "execution_count": 46,
   "metadata": {},
   "outputs": [
    {
     "data": {
      "text/plain": [
       "['tamil', 'english', 'mathematics', 'science', 'social']"
      ]
     },
     "execution_count": 46,
     "metadata": {},
     "output_type": "execute_result"
    }
   ],
   "source": [
    "final_sub"
   ]
  },
  {
   "cell_type": "code",
   "execution_count": 47,
   "metadata": {},
   "outputs": [
    {
     "data": {
      "text/plain": [
       "'2282557 certificate no sec department of government examinations chennai 600 006 600 006 secondary school leaving certificate x standard issued under the authority of the government of tamilnadu ms eth 8a sha mar 2005 certified that the above mentioned candidate appeared for the sslc public examination and obtained the following percentage of marks subject marks lan uage tamil 72 english 62 mathematics 73 science 52 social 51 tal 310 date of birth 15 08 1989 register no tmr cooe no date 27 5294 04 06 2005 295820 lisirefluslar quut school tagore hss deviyakurichi 100 pass in the sslc x std examination requires minimum of thirty percent of marks in each of the subject this includes passing under the compartmental system also adimgseth basha candidate signature sslc secretary state board of school examinations tamilnadu'"
      ]
     },
     "execution_count": 47,
     "metadata": {},
     "output_type": "execute_result"
    }
   ],
   "source": [
    "cleaned_string"
   ]
  },
  {
   "cell_type": "code",
   "execution_count": 48,
   "metadata": {},
   "outputs": [
    {
     "name": "stdout",
     "output_type": "stream",
     "text": [
      "['tamil', '72']\n",
      "['english', '62']\n",
      "['mathematics', '73']\n",
      "['science', '52']\n",
      "['social', '51']\n"
     ]
    }
   ],
   "source": [
    "pattern = \"(\" + \")|(\".join(final_sub) + \")[\\n ]+(\\d+[\\n ]){1,3}\"\n",
    "fi_mark = []\n",
    "for i in final_sub:\n",
    "        pat = i + \"[\\n ]+(\\d+[\\n ]+){1,3}\"\n",
    "        r = re.search(pat , cleaned_string)\n",
    "        s = r[0].strip().split(' ')\n",
    "        print(s)\n",
    "        marks = [int(i) for i in s[1:]]\n",
    "        if mark_sheet == 12:\n",
    "            m = max(marks)\n",
    "            fi_mark.append(m)\n",
    "        elif mark_sheet == 10:\n",
    "            m = min(marks)\n",
    "            fi_mark.append(m)\n",
    "        #fi_mark.append(int(s[-1]))"
   ]
  },
  {
   "cell_type": "code",
   "execution_count": 50,
   "metadata": {},
   "outputs": [],
   "source": [
    "f=open('done.csv','w')\n",
    "for i,j in zip(final_sub,fi_mark):\n",
    "    f.write(str(i)+\",\"+str(j))\n",
    "    f.write('\\n')\n",
    "f.close()"
   ]
  },
  {
   "cell_type": "code",
   "execution_count": null,
   "metadata": {},
   "outputs": [],
   "source": []
  },
  {
   "cell_type": "code",
   "execution_count": null,
   "metadata": {},
   "outputs": [],
   "source": []
  },
  {
   "cell_type": "code",
   "execution_count": null,
   "metadata": {},
   "outputs": [],
   "source": []
  },
  {
   "cell_type": "code",
   "execution_count": null,
   "metadata": {},
   "outputs": [],
   "source": []
  },
  {
   "cell_type": "code",
   "execution_count": null,
   "metadata": {},
   "outputs": [],
   "source": []
  }
 ],
 "metadata": {
  "kernelspec": {
   "display_name": "Python 3",
   "language": "python",
   "name": "python3"
  },
  "language_info": {
   "codemirror_mode": {
    "name": "ipython",
    "version": 3
   },
   "file_extension": ".py",
   "mimetype": "text/x-python",
   "name": "python",
   "nbconvert_exporter": "python",
   "pygments_lexer": "ipython3",
   "version": "3.8.8"
  }
 },
 "nbformat": 4,
 "nbformat_minor": 4
}
